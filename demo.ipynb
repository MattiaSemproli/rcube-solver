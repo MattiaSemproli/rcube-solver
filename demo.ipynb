{
 "cells": [
  {
   "cell_type": "code",
   "execution_count": 4,
   "metadata": {},
   "outputs": [
    {
     "name": "stdout",
     "output_type": "stream",
     "text": [
      "UDBDUDUFDFRLURBFLLRRRLFLBRLLUDFDBRUFBBFBLFDDDULRRBUUFB\n",
      "U R L2 D' L' D' F2 R U B2 D' B R2 U' R2 D R2 L2 D' R2 D2\n",
      "U R L2 D' L' D' F2 R U B2 D' B R2 U' R2 D R2 L2 D' R2 D2\n"
     ]
    }
   ],
   "source": [
    "faces =  {\n",
    "    'Yellow': 'UDBDUDUFD', \n",
    "    'Red': 'FRLURBFLL', \n",
    "    'Blue': 'RRRLFLBRL', \n",
    "    'White': 'LUDFDBRUF', \n",
    "    'Orange': 'BBFBLFDDD',\n",
    "    'Green': 'ULRRBUUFB'\n",
    "}\n",
    "\n",
    "string_to_solve = \"\".join(faces.values())\n",
    "print(string_to_solve)\n",
    "\n",
    "import kociemba\n",
    "solution = kociemba.solve(string_to_solve)\n",
    "print(solution)\n",
    "print(\"U R L2 D' L' D' F2 R U B2 D' B R2 U' R2 D R2 L2 D' R2 D2\")"
   ]
  }
 ],
 "metadata": {
  "kernelspec": {
   "display_name": "Python 3",
   "language": "python",
   "name": "python3"
  },
  "language_info": {
   "codemirror_mode": {
    "name": "ipython",
    "version": 3
   },
   "file_extension": ".py",
   "mimetype": "text/x-python",
   "name": "python",
   "nbconvert_exporter": "python",
   "pygments_lexer": "ipython3",
   "version": "3.11.2"
  }
 },
 "nbformat": 4,
 "nbformat_minor": 2
}
